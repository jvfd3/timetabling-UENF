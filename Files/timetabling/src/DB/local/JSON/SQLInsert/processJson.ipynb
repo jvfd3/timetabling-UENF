{
 "cells": [
  {
   "cell_type": "code",
   "execution_count": 20,
   "metadata": {},
   "outputs": [],
   "source": [
    "tables = [\n",
    "  \"alunos\",\n",
    "  \"disciplinas\",\n",
    "  \"horarios\",\n",
    "  \"professores\",\n",
    "  \"salas\",\n",
    "  \"turmas\",\n",
    "]\n",
    "\n",
    "queries = {\n",
    "  \"alunos\":       \"INSERT INTO alunos       (id, anoEntrada, curso, matricula, nome) VALUES\\n\",\n",
    "  \"disciplinas\":  \"INSERT INTO disciplinas  (id, periodo, codigo, apelido, nome) VALUES\\n\",\n",
    "  \"horarios\":     \"INSERT INTO horarios     (id, dia, horaInicio, duracao, ordem, idTurma, idSala, comment) VALUES\\n\",\n",
    "  \"professores\":  \"INSERT INTO professores  (id, laboratorio, curso, apelido, nome) VALUES\\n\",\n",
    "  \"salas\":        \"INSERT INTO salas        (id, capacidade, idBlock, bloco, codigo, descricao) VALUES\\n\",\n",
    "  \"turmas\":       \"INSERT INTO turmas       (id, ano, semestre, demandaEstimada, idProfessor, idDisciplina, comment) VALUES\\n\",\n",
    "}\n",
    "\n",
    "columns = {\n",
    "  \"alunos\":       [\"id\", \"anoEntrada\", \"curso\", \"matricula\", \"nome\"],\n",
    "  \"disciplinas\":  [\"id\", \"periodo\", \"codigo\", \"apelido\", \"nome\"],\n",
    "  \"horarios\":     [\"id\", \"dia\", \"horaInicio\", \"duracao\", \"ordem\", \"idTurma\", \"idSala\", \"comment\"],\n",
    "  \"professores\":  [\"id\", \"laboratorio\", \"curso\", \"apelido\", \"nome\"],\n",
    "  \"salas\":        [\"id\", \"capacidade\", \"idBlock\", \"bloco\", \"codigo\", \"descricao\"],\n",
    "  \"turmas\":       [\"id\", \"ano\", \"semestre\", \"demandaEstimada\", \"idProfessor\", \"idDisciplina\", \"comment\"],\n",
    "}\n",
    "\n",
    "path = \"B:/timetabling-UENF/Files/timetabling/src/DB/local/JSON/SQL/\""
   ]
  },
  {
   "cell_type": "code",
   "execution_count": 21,
   "metadata": {},
   "outputs": [],
   "source": [
    "import json\n",
    "\n",
    "def sanitize_value(value):\n",
    "    if value is None:\n",
    "        return \"null\"\n",
    "    elif isinstance(value, str):\n",
    "        return f\"'{value.encode('latin-1').decode('utf-8')}'\"\n",
    "    else:\n",
    "        return str(value)\n",
    "\n",
    "for table in tables:\n",
    "    tablePath = path + table + \".json\"\n",
    "    with open(tablePath, encoding='latin-1') as f:\n",
    "        # GET BASE QUERY\n",
    "        queryStart = \"INSERT INTO \" + table + \" (\"\n",
    "        queryEnd = \") VALUES\\n\"\n",
    "        queryCols = \"\"\n",
    "        for col in columns[table]:\n",
    "            queryCols += col + \", \"\n",
    "        queryCols = queryCols[:-2]\n",
    "        query = queryStart + queryCols + queryEnd\n",
    "        \n",
    "        # GET DATA TO INSERT\n",
    "        data = json.load(f)\n",
    "        \n",
    "        for row in data:\n",
    "            insertValues = \"\"\n",
    "            for col in columns[table]:\n",
    "                insertValues += sanitize_value(row[col]) + \", \"\n",
    "            insertQuery = \"  (\" + insertValues[:-2] + \"),\\n\"\n",
    "            query += insertQuery\n",
    "        \n",
    "        query = query[:-2] + \";\"\n",
    "        \n",
    "        outputPath = path[:-1] + \"Insert/\" + table + \".sql\"\n",
    "        with open(outputPath, \"w\", encoding='utf-8') as f:\n",
    "            f.write(query)"
   ]
  }
 ],
 "metadata": {
  "kernelspec": {
   "display_name": "Python 3",
   "language": "python",
   "name": "python3"
  },
  "language_info": {
   "codemirror_mode": {
    "name": "ipython",
    "version": 3
   },
   "file_extension": ".py",
   "mimetype": "text/x-python",
   "name": "python",
   "nbconvert_exporter": "python",
   "pygments_lexer": "ipython3",
   "version": "3.10.11"
  }
 },
 "nbformat": 4,
 "nbformat_minor": 2
}

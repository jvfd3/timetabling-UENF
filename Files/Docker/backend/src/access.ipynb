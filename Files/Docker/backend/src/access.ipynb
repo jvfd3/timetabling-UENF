{
 "cells": [
  {
   "cell_type": "code",
   "execution_count": 1,
   "metadata": {},
   "outputs": [
    {
     "name": "stdout",
     "output_type": "stream",
     "text": [
      "Requirement already satisfied: mysql-connector-python in b:\\programas\\programming\\python\\lib\\site-packages (9.2.0)\n",
      "Note: you may need to restart the kernel to use updated packages.\n"
     ]
    }
   ],
   "source": [
    "%pip install mysql-connector-python"
   ]
  },
  {
   "cell_type": "code",
   "execution_count": 3,
   "metadata": {},
   "outputs": [
    {
     "name": "stdout",
     "output_type": "stream",
     "text": [
      "Successfully connected to the database\n",
      "Connection closed\n"
     ]
    }
   ],
   "source": [
    "import mysql.connector\n",
    "\n",
    "def connect_db():\n",
    "    # Database connection details\n",
    "    db_info = {\n",
    "        'host': \"localhost\",\n",
    "        # 'host': \"0.0.0.0\",\n",
    "        'port': 3306,\n",
    "        'user': \"tang\",\n",
    "        'password': \"annabell\",\n",
    "        'database': \"timetabling\"\n",
    "    }\n",
    "    # connection = mysql.connector.connect(**db_info)\n",
    "    \n",
    "    connection = mysql.connector.connect(\n",
    "        host=db_info['host'],\n",
    "        port=db_info['port'],\n",
    "        user=db_info['user'],\n",
    "        password=db_info['password'],\n",
    "        database=db_info['database']\n",
    "    )\n",
    "    return connection\n",
    "\n",
    "# Establishing the connection\n",
    "connection = connect_db()\n",
    "try:\n",
    "    if connection.is_connected():\n",
    "        print(\"Successfully connected to the database\")\n",
    "except mysql.connector.Error as err:\n",
    "    print(f\"Error: {err}\")\n",
    "finally:\n",
    "    if connection.is_connected():\n",
    "        connection.close()\n",
    "        print(\"Connection closed\")"
   ]
  }
 ],
 "metadata": {
  "kernelspec": {
   "display_name": "Python 3",
   "language": "python",
   "name": "python3"
  },
  "language_info": {
   "codemirror_mode": {
    "name": "ipython",
    "version": 3
   },
   "file_extension": ".py",
   "mimetype": "text/x-python",
   "name": "python",
   "nbconvert_exporter": "python",
   "pygments_lexer": "ipython3",
   "version": "3.12.4"
  }
 },
 "nbformat": 4,
 "nbformat_minor": 2
}

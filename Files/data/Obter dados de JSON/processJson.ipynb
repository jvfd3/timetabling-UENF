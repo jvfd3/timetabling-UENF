{
 "cells": [
  {
   "cell_type": "code",
   "execution_count": 6,
   "metadata": {},
   "outputs": [],
   "source": [
    "import json\n",
    "\n",
    "path = \"B:/timetabling-UENF/Files/timetabling/src/DB/local/JSON/SQL/\"\n",
    "file = \"turmas.json\"\n",
    "base = \"INSERT INTO turmas (id, ano, semestre, idDisciplina, idProfessor, demandaEstimada, comment) VALUES \\n\"\n",
    "\n",
    "with open(path + file, encoding='latin-1') as f:\n",
    "  data = json.load(f)\n",
    "  query = base\n",
    "  for row in data:\n",
    "    newRowValue = f\"({row['id']}, {row['ano']}, {row['semestre']}, {row['idDisciplina']}, {row['idProfessor']}, {row['demandaEstimada']}, '{row['comment']}')\"\n",
    "    newRowValue += \",\"\n",
    "    query += newRowValue\n",
    "  query = query[:-1] + \";\"\n",
    "\n",
    "query = query.replace(\"None\", \"null\")\n",
    "\n",
    "with open(\"./turmas.txt\", \"w\") as f:\n",
    "  f.write(query)\n"
   ]
  }
 ],
 "metadata": {
  "kernelspec": {
   "display_name": "Python 3",
   "language": "python",
   "name": "python3"
  },
  "language_info": {
   "codemirror_mode": {
    "name": "ipython",
    "version": 3
   },
   "file_extension": ".py",
   "mimetype": "text/x-python",
   "name": "python",
   "nbconvert_exporter": "python",
   "pygments_lexer": "ipython3",
   "version": "3.10.11"
  }
 },
 "nbformat": 4,
 "nbformat_minor": 2
}

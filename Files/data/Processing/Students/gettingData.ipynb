{
 "cells": [
  {
   "cell_type": "code",
   "execution_count": 5,
   "metadata": {},
   "outputs": [],
   "source": [
    "\"\"\" Importações de bibliotecas \"\"\"\n",
    "import openpyxl"
   ]
  },
  {
   "cell_type": "code",
   "execution_count": 95,
   "metadata": {},
   "outputs": [],
   "source": [
    "\"\"\" Definição de constantes \"\"\"\n",
    "\n",
    "isipynb = True\n",
    "nome_arquivo_excel = 'Files/data/Extracting Student Data/StudentDemandExtraction.xlsx'\n",
    "\n",
    "# if isipynb:\n",
    "#     nome_arquivo_excel = 'StudentDemandExtraction.xlsx'\n",
    "if isipynb:\n",
    "    nome_arquivo_excel = 'MatrizAvancoPython.xlsx'\n",
    "\n",
    "cor_naofeito = [None, \"FFffffff\", \"00000000\", \"FFf2f2f2\"]\n",
    "cor_aprovado = [\"FF92D050\", \"FF92d050\"]\n",
    "cor_cursando = [\"FFFFFF00\", \"FFffff00\"]\n",
    "cell_colors = {}\n",
    "\n",
    "names_to_skip = [\"Alunos\", \"Planilha1\", \"Matriz_Branco\"]\n",
    "\n",
    "linhas = [6, 10, 16, 22, 27, 32, 37, 41]\n",
    "colunas = [1, 7, 13, 19, 25, 31, 37, 43, 49, 55]\n",
    "\n",
    "disciplinas = {\n",
    "    \"Geometria Analítica\": \"MAT01117\",\n",
    "    \"Cálculo Diferencial e Integral I\": \"MAT01101\",\n",
    "    \"Organiza. de Computadores\": \"INF01105\",\n",
    "    \"Lógica Matemática\": \"MAT01104\",\n",
    "    \"Programação I\": \"INF01106\",\n",
    "    \"Introdução à Ciência da Computação\": \"INF01101\",\n",
    "    \"Inglês Instrumental I\": \"LEL04102\",\n",
    "    \"Algebra Linear\": \"MAT01212\",\n",
    "    \"Cálculo Diferencial e Integral II\": \"MAT01203\",\n",
    "    \"Cálculo Diferencial Integral II\": \"MAT01203\",\n",
    "    \"cálculodiferencialintegralii\": \"MAT01203\",\n",
    "    \"Cálculo Diferencial Integral II                                                                               \": \"MAT01203\",\n",
    "    \"Física Geral I\": \"FIS01202\",\n",
    "    \"Laboratório de Física Geral I\": \"FIS01204\",\n",
    "    \"Lógina Digital\": \"INF01104\",\n",
    "    \"Estruturas Discretas\": \"INF01207\",\n",
    "    \"Programação II\": \"INF01209\",\n",
    "    \"Inglês Instrumental II\": \"LEL04206\",\n",
    "    \"Método Matemático\": \"MAT01106\",\n",
    "    \"Cálculo Diferencial e Integral III\": \"MAT01105\",\n",
    "    \"Física Geral II\": \"FIS01103\",\n",
    "    \"Laboratório de Física Geral II\": \"FIS01109\",\n",
    "    \"Arquit. de Computadores\": \"INF01112\",\n",
    "    \"Paradigmas de Lings de Programação\": \"INF01113\",\n",
    "    \"Estrutura de Dados I\": \"INF01114\",\n",
    "    \"Cálculo Numérico\": \"MAT01208\",\n",
    "    \"Estatística e Probabilidade\": \"MAT01201\",\n",
    "    \"Sistema Operacional\": \"INF01204\",\n",
    "    \"Estrutura de dados II\": \"INF01202\",\n",
    "    \"Programação Orientado a Objetos\": \"INF01203\",\n",
    "    \"Análise e Projeto de Sistemas\": \"INF01201\",\n",
    "    \"Processos Estocásticos\": \"MAT01107\",\n",
    "    \"Redes de Computadores\": \"INF01115\",\n",
    "    \"L. Formais e Teoria da Computação\": \"INF01117\",\n",
    "    \"Banco de Dados I\": \"INF01116\",\n",
    "    \"Engenharia de Software\": \"INF01119\",\n",
    "    \"Computação e Sociedade\": \"LES04536\",\n",
    "    \"Pesquisa Operacional\": \"INF01211\",\n",
    "    \"Introdução à Computação Gráfica\": \"INF01124\",\n",
    "    \"Compiladores\": \"INF01212\",\n",
    "    \"Banco de Dados II\": \"INF01206\",\n",
    "    \"Inteligência Artificial\": \"INF01205\",\n",
    "    \"Parad. OO para Desenv. de Software\": \"INF01210\",\n",
    "    \"Sistemas Distribuídos\": \"INF01122\",\n",
    "    \"Interface Homem-Máquina\": \"INF01123\",\n",
    "    \"Teste de Software\": \"INF01121\",\n",
    "    \"Metodologia de Trabalho Científico\": \"PRO01122\",\n",
    "    \"Empreende-dorismo I\": \"PRO01540\",\n",
    "    \"Projeto de Monografia\": \"INF01130\",\n",
    "    \"Estágio Supervisionado\": \"INF01127\",\n",
    "    \"Monografia\": \"INF01131\",\n",
    "    \"Optativa Eletiva I\": \"INF0OPT1\",\n",
    "    \"Optativa Eletiva II\": \"INF0OPT2\",\n",
    "    \"Optativa Eletiva III\": \"INF0OPT3\",\n",
    "    \"Optativa Eletiva IV\": \"INF0OPT4\",\n",
    "    \"Optativa Eletiva V\": \"INF0OPT5\",\n",
    "    \"Optativa Eletiva VI\": \"INF0OPT6\",\n",
    "    \"Optativa I\": \"INF0OPT1\",\n",
    "    \"Optativa  II\": \"INF0OPT2\",\n",
    "    \"Optativa  III\": \"INF0OPT3\",\n",
    "    \"Optativa IV\": \"INF0OPT4\",\n",
    "}\n"
   ]
  },
  {
   "cell_type": "code",
   "execution_count": 7,
   "metadata": {},
   "outputs": [
    {
     "name": "stdout",
     "output_type": "stream",
     "text": [
      "Carregando xlsx\n"
     ]
    }
   ],
   "source": [
    "\"\"\" Carregando Arquivo Excel \"\"\"\n",
    "\n",
    "print(\"Carregando xlsx\")\n",
    "\n",
    "arquivo_excel = openpyxl.load_workbook(nome_arquivo_excel)"
   ]
  },
  {
   "cell_type": "code",
   "execution_count": 104,
   "metadata": {},
   "outputs": [],
   "source": [
    "\"\"\" Functions: clean_name \"\"\"\n",
    "import unicodedata\n",
    "def clean_name(name):\n",
    "    \"\"\" This function does the following\n",
    "            1. makes it all lowercased\n",
    "            2. removes all numbers\n",
    "            3. removes all parenthesis\n",
    "            4. removes all underscores\n",
    "            5. removes all trailing whitespaces\n",
    "            6. removes all accents\n",
    "    \"\"\"\n",
    "    name = name.lower()\n",
    "    name = ''.join(char for char in name if not char.isdigit())\n",
    "    name = name.replace('(', '').replace(')', '')\n",
    "    name = name.replace('_', '')\n",
    "    name = name.strip()\n",
    "    name = ''.join(c for c in unicodedata.normalize('NFD', name) if unicodedata.category(c) != 'Mn')\n",
    "    return name\n"
   ]
  },
  {
   "cell_type": "code",
   "execution_count": 101,
   "metadata": {},
   "outputs": [],
   "source": [
    "\"\"\" Functions: clean_name and get_disciplinas \"\"\"\n",
    "\n",
    "def get_disciplinas(worksheet):\n",
    "    aprovado = []\n",
    "    cursando = []\n",
    "    naofeita = []\n",
    "    something_broken = []\n",
    "\n",
    "    codigos_aprovadas = []\n",
    "    codigos_cursando = []\n",
    "    codigos_naofeitas = []\n",
    "    codigos_something_broken = []\n",
    "\n",
    "\n",
    "    for linha in linhas:\n",
    "        for coluna in colunas:\n",
    "            celula = worksheet.cell(row=linha, column=coluna)\n",
    "            valor = worksheet.cell(row=linha, column=coluna).value\n",
    "            cell_color = celula.fill.start_color.index\n",
    "            if valor is not None:\n",
    "                if cell_color in cor_aprovado:\n",
    "                    aprovado.append(valor)\n",
    "                elif cell_color in cor_cursando:\n",
    "                    cursando.append(valor)\n",
    "                elif cell_color in cor_naofeito:\n",
    "                    naofeita.append(valor)\n",
    "                else:\n",
    "                    something_broken.append(valor)\n",
    "\n",
    "    for item in aprovado:\n",
    "        codigos_aprovadas.append(disciplinas[item])\n",
    "    for item in cursando:\n",
    "        codigos_cursando.append(disciplinas[item])\n",
    "    for item in naofeita:\n",
    "        codigos_naofeitas.append(disciplinas[item])\n",
    "    for item in something_broken:\n",
    "        codigos_something_broken.append(disciplinas[item])\n",
    "\n",
    "    codigos_aprovadas.sort()\n",
    "    codigos_cursando.sort()\n",
    "    codigos_naofeitas.sort()\n",
    "    codigos_something_broken.sort()\n",
    "\n",
    "    disciplinas_aluno = {\n",
    "        \"cursando\": codigos_cursando,\n",
    "        \"naofeitas\": codigos_naofeitas,\n",
    "        \"aprovadas\": codigos_aprovadas,\n",
    "        # \"something_broken\": codigos_something_broken,\n",
    "    }\n",
    "\n",
    "    if len(codigos_something_broken)>0:\n",
    "        disciplinas_aluno[\"something_broken\"] = codigos_something_broken\n",
    "\n",
    "    return disciplinas_aluno"
   ]
  },
  {
   "cell_type": "code",
   "execution_count": 87,
   "metadata": {},
   "outputs": [],
   "source": [
    "\"\"\" Funtion: get students dict \"\"\"\n",
    "\n",
    "def get_students_dict(arquivo):\n",
    "    print(\"Obtendo disciplinas\")\n",
    "    disciplinas_alunos = {}\n",
    "\n",
    "    nomes_planilhas = arquivo.sheetnames\n",
    "\n",
    "    for nome in nomes_planilhas:\n",
    "        if nome in names_to_skip:\n",
    "            continue\n",
    "        # print(nome)\n",
    "        disciplinas_aluno = get_disciplinas(arquivo[nome])\n",
    "        new_name = clean_name(nome)\n",
    "        disciplinas_alunos[new_name] = disciplinas_aluno\n",
    "    return disciplinas_alunos"
   ]
  },
  {
   "cell_type": "code",
   "execution_count": 88,
   "metadata": {},
   "outputs": [],
   "source": [
    "\"\"\" Export as json \"\"\"\n",
    "import json\n",
    "\n",
    "def exporting_dict_as_json(disciplinas_dictionary):\n",
    "    \"\"\" This code should receive a dictionary and save it as a json file \"\"\"\n",
    "    with open('output.json', 'w') as file:\n",
    "        json.dump(disciplinas_dictionary, file)"
   ]
  },
  {
   "cell_type": "code",
   "execution_count": 106,
   "metadata": {},
   "outputs": [
    {
     "name": "stdout",
     "output_type": "stream",
     "text": [
      "Obtendo disciplinas\n"
     ]
    }
   ],
   "source": [
    "\"\"\" Using Generalized code \"\"\"\n",
    "\n",
    "disciplinas_dict = get_students_dict(arquivo_excel)\n",
    "exporting_dict_as_json(disciplinas_dict)\n",
    "\n",
    "arquivo_excel.close()\n"
   ]
  },
  {
   "cell_type": "code",
   "execution_count": 105,
   "metadata": {},
   "outputs": [
    {
     "name": "stdout",
     "output_type": "stream",
     "text": [
      "icea\n"
     ]
    }
   ],
   "source": [
    "\"\"\" Testing \"\"\"\n",
    "\n",
    "a = arquivo_excel[arquivo_excel.sheetnames[10]]\n",
    "sujo = \"íçéã\"\n",
    "print(clean_name(sujo))"
   ]
  }
 ],
 "metadata": {
  "kernelspec": {
   "display_name": "Python 3",
   "language": "python",
   "name": "python3"
  },
  "language_info": {
   "codemirror_mode": {
    "name": "ipython",
    "version": 3
   },
   "file_extension": ".py",
   "mimetype": "text/x-python",
   "name": "python",
   "nbconvert_exporter": "python",
   "pygments_lexer": "ipython3",
   "version": "3.10.11"
  }
 },
 "nbformat": 4,
 "nbformat_minor": 2
}

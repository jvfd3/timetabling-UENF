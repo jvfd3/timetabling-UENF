{
 "cells": [
  {
   "cell_type": "code",
   "execution_count": 80,
   "metadata": {},
   "outputs": [],
   "source": [
    "\"\"\" Importação de bibliotecas e constantes \"\"\"\n",
    "\n",
    "# Importar bibliotecas\n",
    "# import pandas as pd\n",
    "from openpyxl import load_workbook\n",
    "from openpyxl import Workbook\n"
   ]
  },
  {
   "cell_type": "code",
   "execution_count": 82,
   "metadata": {},
   "outputs": [],
   "source": [
    "\"\"\" Constantes \"\"\"\n",
    "\n",
    "FILE_PATH = 'B:/timetabling-UENF/Files/data/Processed Data/Tabelas/CS Grids - 2019.1-2024.1.xlsx'\n",
    "times = [7, 8, 9, 10, 11, 12, 13, 14, 15, 16, 17, 18, 19, 20, 21]\n",
    "days = [\"SEG\", \"TER\", \"QUA\", \"QUI\", \"SEX\"]"
   ]
  },
  {
   "cell_type": "code",
   "execution_count": 83,
   "metadata": {},
   "outputs": [],
   "source": [
    "\"\"\" Processar Tabela\n",
    "    This receives an openpyxl worksheet gotten from an Excel file and processes it.\n",
    "    \n",
    "\"\"\"\n",
    "\n",
    "# def sheetProcessScalable(worksheet):\n",
    "#     for row in worksheet.iter_rows():\n",
    "#         for cell in row:\n",
    "#             message = \"\"\n",
    "#             message += f\"Cell {cell.coordinate} \"\n",
    "#             if cell.coordinate not in worksheet.merged_cells:\n",
    "#                 message += \"not \"\n",
    "#             else:\n",
    "#                 message += \"    \"\n",
    "#             message += \"merged\\t\"\n",
    "#             message += \": \"\n",
    "#             message += f\"{cell.value}\"\n",
    "#             print(message)"
   ]
  },
  {
   "cell_type": "code",
   "execution_count": 87,
   "metadata": {},
   "outputs": [],
   "source": [
    "\"\"\" Semi manual sheet processing\n",
    "- set headers and hours\n",
    "classTimes = [\n",
    "  {id: 1, horaInicio: 8, duracao: 2, sala: \"\", dia: \"SEG\", info: \"\"},\n",
    "]\n",
    "\"\"\"\n",
    "\n",
    "def processInfo(info):\n",
    "  \"\"\" \n",
    "  expected input: info = \"3-Est. Dados I (Tang-25/Bcct)\"\n",
    "  expected output:\n",
    "  message = {\n",
    "    expectedSemester: 3,\n",
    "    subject: \"Est. Dados I\",\n",
    "    professor: \"Tang\",\n",
    "    expectedDemand: 25,\n",
    "    room: \"Bcct\"\n",
    "  }\n",
    "  \"\"\"\n",
    "  message = {}\n",
    "  \n",
    "  parts = info.split(\"-\")\n",
    "  message[\"expectedSemester\"] = int(parts[0].strip())\n",
    "  \n",
    "  subject_professor = parts[1].split(\"(\")\n",
    "  message[\"subject\"] = subject_professor[0].strip()\n",
    "  \n",
    "  professor_demand_room = subject_professor[1].split(\"/\")\n",
    "  professor_demand = professor_demand_room[0].split(\"-\")\n",
    "  message[\"professor\"] = professor_demand[0].strip()\n",
    "  message[\"expectedDemand\"] = int(professor_demand[1].strip())\n",
    "  \n",
    "  message[\"room\"] = professor_demand_room[1].replace(\")\", \"\").strip()\n",
    "  \n",
    "  return message\n",
    "\n",
    "def processCell(cell):\n",
    "    if cell.value is not None:\n",
    "        infoList = cell.value.strip().split(\"\\n\")\n",
    "        infoList = [subject for subject in infoList if subject != \"\"]\n",
    "        for info in infoList:\n",
    "            message = {}\n",
    "            message[\"duration\"] = 2\n",
    "            message[\"startHour\"] = times[cell.row - 2]\n",
    "            message[\"day\"] = days[cell.column - 2]\n",
    "            \n",
    "            processedInfo = processInfo(info)\n",
    "            print(processedInfo)\n",
    "  \n",
    "\n",
    "def sheetProcess(worksheet):\n",
    "    for row in worksheet.iter_rows():\n",
    "        for cell in row:\n",
    "          if cell.row > 1 and cell.column > 1:\n",
    "            processCell(cell)"
   ]
  },
  {
   "cell_type": "code",
   "execution_count": 85,
   "metadata": {},
   "outputs": [
    {
     "ename": "IndexError",
     "evalue": "list index out of range",
     "output_type": "error",
     "traceback": [
      "\u001b[1;31m---------------------------------------------------------------------------\u001b[0m",
      "\u001b[1;31mIndexError\u001b[0m                                Traceback (most recent call last)",
      "Cell \u001b[1;32mIn[85], line 17\u001b[0m\n\u001b[0;32m     15\u001b[0m \u001b[38;5;28;01mif\u001b[39;00m processOnce:\n\u001b[0;32m     16\u001b[0m     processOnce \u001b[38;5;241m=\u001b[39m \u001b[38;5;28;01mFalse\u001b[39;00m\n\u001b[1;32m---> 17\u001b[0m     \u001b[43msheetProcess\u001b[49m\u001b[43m(\u001b[49m\u001b[43mworksheet\u001b[49m\u001b[43m)\u001b[49m\n",
      "Cell \u001b[1;32mIn[84], line 39\u001b[0m, in \u001b[0;36msheetProcess\u001b[1;34m(worksheet)\u001b[0m\n\u001b[0;32m     37\u001b[0m \u001b[38;5;28;01mfor\u001b[39;00m cell \u001b[38;5;129;01min\u001b[39;00m row:\n\u001b[0;32m     38\u001b[0m   \u001b[38;5;28;01mif\u001b[39;00m cell\u001b[38;5;241m.\u001b[39mrow \u001b[38;5;241m>\u001b[39m \u001b[38;5;241m1\u001b[39m \u001b[38;5;129;01mand\u001b[39;00m cell\u001b[38;5;241m.\u001b[39mcolumn \u001b[38;5;241m>\u001b[39m \u001b[38;5;241m1\u001b[39m:\n\u001b[1;32m---> 39\u001b[0m     \u001b[43mprocessCell\u001b[49m\u001b[43m(\u001b[49m\u001b[43mcell\u001b[49m\u001b[43m)\u001b[49m\n",
      "Cell \u001b[1;32mIn[84], line 26\u001b[0m, in \u001b[0;36mprocessCell\u001b[1;34m(cell)\u001b[0m\n\u001b[0;32m     24\u001b[0m professor \u001b[38;5;241m=\u001b[39m professorStudentsRoom\u001b[38;5;241m.\u001b[39msplit(\u001b[38;5;124m\"\u001b[39m\u001b[38;5;124m-\u001b[39m\u001b[38;5;124m\"\u001b[39m)[\u001b[38;5;241m0\u001b[39m]\u001b[38;5;241m.\u001b[39mstrip()\n\u001b[0;32m     25\u001b[0m expectedDemand \u001b[38;5;241m=\u001b[39m professorStudentsRoom\u001b[38;5;241m.\u001b[39msplit(\u001b[38;5;124m\"\u001b[39m\u001b[38;5;124m-\u001b[39m\u001b[38;5;124m\"\u001b[39m)[\u001b[38;5;241m1\u001b[39m]\u001b[38;5;241m.\u001b[39msplit(\u001b[38;5;124m\"\u001b[39m\u001b[38;5;124m-\u001b[39m\u001b[38;5;124m\"\u001b[39m)[\u001b[38;5;241m0\u001b[39m]\u001b[38;5;241m.\u001b[39mstrip()\n\u001b[1;32m---> 26\u001b[0m room \u001b[38;5;241m=\u001b[39m \u001b[43mprofessorStudentsRoom\u001b[49m\u001b[38;5;241;43m.\u001b[39;49m\u001b[43msplit\u001b[49m\u001b[43m(\u001b[49m\u001b[38;5;124;43m\"\u001b[39;49m\u001b[38;5;124;43m-\u001b[39;49m\u001b[38;5;124;43m\"\u001b[39;49m\u001b[43m)\u001b[49m\u001b[43m[\u001b[49m\u001b[38;5;241;43m1\u001b[39;49m\u001b[43m]\u001b[49m\u001b[38;5;241;43m.\u001b[39;49m\u001b[43msplit\u001b[49m\u001b[43m(\u001b[49m\u001b[38;5;124;43m\"\u001b[39;49m\u001b[38;5;124;43m-\u001b[39;49m\u001b[38;5;124;43m\"\u001b[39;49m\u001b[43m)\u001b[49m\u001b[43m[\u001b[49m\u001b[38;5;241;43m1\u001b[39;49m\u001b[43m]\u001b[49m\u001b[38;5;241m.\u001b[39mstrip()\n\u001b[0;32m     28\u001b[0m message[\u001b[38;5;124m\"\u001b[39m\u001b[38;5;124mprofessor\u001b[39m\u001b[38;5;124m\"\u001b[39m] \u001b[38;5;241m=\u001b[39m professor\n\u001b[0;32m     29\u001b[0m message[\u001b[38;5;124m\"\u001b[39m\u001b[38;5;124mexpectedDemand\u001b[39m\u001b[38;5;124m\"\u001b[39m] \u001b[38;5;241m=\u001b[39m expectedDemand\n",
      "\u001b[1;31mIndexError\u001b[0m: list index out of range"
     ]
    }
   ],
   "source": [
    "\"\"\" pre processar arquivo\n",
    "- Ler arquivo XLSX de um caminho armazenado em uma constante\n",
    "- Iterar sobre todas as planilhas do arquivo\n",
    "\"\"\"\n",
    "\n",
    "# Carregar o arquivo Excel\n",
    "workbook = load_workbook(FILE_PATH)\n",
    "\n",
    "# Processar o arquivo\n",
    "\n",
    "processOnce = True\n",
    "\n",
    "for sheet in workbook.sheetnames:\n",
    "    worksheet = workbook[sheet]\n",
    "    if processOnce:\n",
    "        processOnce = False\n",
    "        sheetProcess(worksheet)"
   ]
  }
 ],
 "metadata": {
  "kernelspec": {
   "display_name": "Python 3",
   "language": "python",
   "name": "python3"
  },
  "language_info": {
   "codemirror_mode": {
    "name": "ipython",
    "version": 3
   },
   "file_extension": ".py",
   "mimetype": "text/x-python",
   "name": "python",
   "nbconvert_exporter": "python",
   "pygments_lexer": "ipython3",
   "version": "3.10.11"
  }
 },
 "nbformat": 4,
 "nbformat_minor": 2
}
